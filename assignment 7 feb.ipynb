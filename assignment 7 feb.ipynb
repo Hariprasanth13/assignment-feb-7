{
 "cells": [
  {
   "cell_type": "code",
   "execution_count": 3,
   "id": "f66d307f-9795-4e68-adef-ea497cb2f404",
   "metadata": {},
   "outputs": [],
   "source": [
    "pwd='Asdf'\n"
   ]
  },
  {
   "cell_type": "code",
   "execution_count": 4,
   "id": "7fb1fd94-69be-4393-a55e-95af9cddc6a5",
   "metadata": {},
   "outputs": [
    {
     "data": {
      "text/plain": [
       "False"
      ]
     },
     "execution_count": 4,
     "metadata": {},
     "output_type": "execute_result"
    }
   ],
   "source": [
    "pwd.isupper()"
   ]
  },
  {
   "cell_type": "code",
   "execution_count": 14,
   "id": "51a7957e-13be-4c28-8996-ed3760ccb078",
   "metadata": {},
   "outputs": [],
   "source": [
    "def pwd_check(a):\n",
    "    #counting upper case and lower case letter\n",
    "    low=0\n",
    "    hig=0\n",
    "    num=0\n",
    "    spl=0\n",
    "    spl_char=\" !\\\"#$%&'()*+,-./:;<=>?@[\\]^_`{|}~\"\n",
    "    length=len(a)\n",
    "    if length!=10:\n",
    "        return \"Invalid Password\"\n",
    "    for i in a:\n",
    "        if i >='a' and i<= 'z':\n",
    "            low=low+1\n",
    "        elif i>='A' and i<= 'Z':\n",
    "            hig =hig+1\n",
    "        elif i.isnumeric():\n",
    "            num=num+1\n",
    "        elif i in spl_char:\n",
    "            spl=spl+1\n",
    "    if low>=2 and hig >=2:\n",
    "        if num>=1 and spl ==3:\n",
    "            return \"Valid Password\"\n",
    "    "
   ]
  },
  {
   "cell_type": "code",
   "execution_count": 15,
   "id": "60b6b36c-c8e5-4d31-84d8-94540f9b9770",
   "metadata": {},
   "outputs": [
    {
     "data": {
      "text/plain": [
       "'Valid Password'"
      ]
     },
     "execution_count": 15,
     "metadata": {},
     "output_type": "execute_result"
    }
   ],
   "source": [
    "pwd_check('asdfSD@#$1')"
   ]
  },
  {
   "cell_type": "markdown",
   "id": "59a959fc-dae2-450e-922a-c6020a487196",
   "metadata": {},
   "source": [
    "Q2"
   ]
  },
  {
   "cell_type": "code",
   "execution_count": 16,
   "id": "70ea84bb-d9ab-421c-9793-1ed5094914b3",
   "metadata": {},
   "outputs": [],
   "source": [
    "name='Hari'"
   ]
  },
  {
   "cell_type": "code",
   "execution_count": 17,
   "id": "06d115a4-98b8-4482-a012-8c39088c01a1",
   "metadata": {},
   "outputs": [
    {
     "data": {
      "text/plain": [
       "True"
      ]
     },
     "execution_count": 17,
     "metadata": {},
     "output_type": "execute_result"
    }
   ],
   "source": [
    "name.startswith('H')"
   ]
  },
  {
   "cell_type": "code",
   "execution_count": 21,
   "id": "abe56fff-5b42-4f2d-8120-a1377a580c6a",
   "metadata": {},
   "outputs": [
    {
     "data": {
      "text/plain": [
       "[True, False, True, False]"
      ]
     },
     "execution_count": 21,
     "metadata": {},
     "output_type": "execute_result"
    }
   ],
   "source": [
    "list(map(lambda a: a.startswith('H'),['Hari','prasanth','Harish','ragul']))"
   ]
  },
  {
   "cell_type": "code",
   "execution_count": 22,
   "id": "a5b112c1-313a-48a4-b7a9-c77d74b156e0",
   "metadata": {},
   "outputs": [],
   "source": [
    "fun = lambda a: a.isnumeric() "
   ]
  },
  {
   "cell_type": "code",
   "execution_count": 26,
   "id": "654b8bd2-063b-4952-8ce4-00bf0b0b6693",
   "metadata": {},
   "outputs": [
    {
     "data": {
      "text/plain": [
       "True"
      ]
     },
     "execution_count": 26,
     "metadata": {},
     "output_type": "execute_result"
    }
   ],
   "source": [
    "fun('123')"
   ]
  },
  {
   "cell_type": "code",
   "execution_count": 32,
   "id": "8276fae6-5098-4783-b6a3-eb659a990d8e",
   "metadata": {},
   "outputs": [],
   "source": [
    "lst = [(\"mango\",99),(\"orange\",80), (\"grapes\", 1000)]"
   ]
  },
  {
   "cell_type": "code",
   "execution_count": 34,
   "id": "9db025d6-f884-4bd4-b099-f134b7b076dc",
   "metadata": {},
   "outputs": [],
   "source": [
    "lst.sort(key= lambda x:x[1])"
   ]
  },
  {
   "cell_type": "code",
   "execution_count": 35,
   "id": "24799a8e-25a4-41d6-9b18-7c1c3d48c692",
   "metadata": {},
   "outputs": [
    {
     "data": {
      "text/plain": [
       "[('orange', 80), ('mango', 99), ('grapes', 1000)]"
      ]
     },
     "execution_count": 35,
     "metadata": {},
     "output_type": "execute_result"
    }
   ],
   "source": [
    "lst"
   ]
  },
  {
   "cell_type": "code",
   "execution_count": 36,
   "id": "ff502dfd-c07c-45e7-b873-5d0d20a8320e",
   "metadata": {},
   "outputs": [],
   "source": [
    "lst1=[]\n",
    "for i in range(11):\n",
    "    lst1.append(i)"
   ]
  },
  {
   "cell_type": "code",
   "execution_count": 38,
   "id": "99134b6e-a1af-4c9d-80f6-a154029f42ed",
   "metadata": {},
   "outputs": [
    {
     "data": {
      "text/plain": [
       "[0, 1, 4, 9, 16, 25, 36, 49, 64, 81, 100]"
      ]
     },
     "execution_count": 38,
     "metadata": {},
     "output_type": "execute_result"
    }
   ],
   "source": [
    "list(map(lambda x:x**2,lst1))"
   ]
  },
  {
   "cell_type": "code",
   "execution_count": 39,
   "id": "028a13c0-8c1a-44e1-ade3-50c2d7d8084d",
   "metadata": {},
   "outputs": [
    {
     "data": {
      "text/plain": [
       "[0, 1, 8, 27, 64, 125, 216, 343, 512, 729, 1000]"
      ]
     },
     "execution_count": 39,
     "metadata": {},
     "output_type": "execute_result"
    }
   ],
   "source": [
    "list(map(lambda x:x**3,lst1))"
   ]
  },
  {
   "cell_type": "code",
   "execution_count": 40,
   "id": "1eda658c-55ce-4683-b773-5ee0961f6ae7",
   "metadata": {},
   "outputs": [],
   "source": [
    "l=[23,45,33,45,6,78,88]"
   ]
  },
  {
   "cell_type": "code",
   "execution_count": 41,
   "id": "a91fd152-2576-49b7-bb0c-d1729930cd81",
   "metadata": {},
   "outputs": [
    {
     "data": {
      "text/plain": [
       "[6, 78, 88]"
      ]
     },
     "execution_count": 41,
     "metadata": {},
     "output_type": "execute_result"
    }
   ],
   "source": [
    "list(filter(lambda x:x%2==0,l))"
   ]
  },
  {
   "cell_type": "code",
   "execution_count": 42,
   "id": "92db59d0-88c9-4c69-b1c9-64f35a7e67ea",
   "metadata": {},
   "outputs": [],
   "source": [
    "l1=[1,2,3,4,5,6,7,8,9,10]"
   ]
  },
  {
   "cell_type": "code",
   "execution_count": 43,
   "id": "9b82d844-d0e0-4c76-a0a6-06fa2626900c",
   "metadata": {},
   "outputs": [
    {
     "data": {
      "text/plain": [
       "[1, 3, 5, 7, 9]"
      ]
     },
     "execution_count": 43,
     "metadata": {},
     "output_type": "execute_result"
    }
   ],
   "source": [
    "list(filter(lambda x:x%2!=0,l1))"
   ]
  },
  {
   "cell_type": "code",
   "execution_count": 44,
   "id": "7bc8146c-e0fb-4fd8-bf1e-0e46a32e8d3b",
   "metadata": {},
   "outputs": [],
   "source": [
    "l2=[1,2,3,4,5,6,-1,-2,-3,-4,-5,0]"
   ]
  },
  {
   "cell_type": "code",
   "execution_count": 47,
   "id": "df075470-3221-4f07-a79e-8157010244c9",
   "metadata": {},
   "outputs": [],
   "source": [
    "pos=list(filter(lambda x:x>=0,l2))"
   ]
  },
  {
   "cell_type": "code",
   "execution_count": 49,
   "id": "bdc6d142-2f68-4bbf-a649-e284e67d226b",
   "metadata": {},
   "outputs": [],
   "source": [
    "pos.sort()"
   ]
  },
  {
   "cell_type": "code",
   "execution_count": 50,
   "id": "f2b444a6-0338-4a98-9485-84c6fef9c228",
   "metadata": {},
   "outputs": [
    {
     "data": {
      "text/plain": [
       "[0, 1, 2, 3, 4, 5, 6]"
      ]
     },
     "execution_count": 50,
     "metadata": {},
     "output_type": "execute_result"
    }
   ],
   "source": [
    "pos"
   ]
  },
  {
   "cell_type": "code",
   "execution_count": 51,
   "id": "593adbe0-8415-4289-9f14-5ab65422fe8e",
   "metadata": {},
   "outputs": [],
   "source": [
    "neg=list(filter(lambda x:x<0,l2))"
   ]
  },
  {
   "cell_type": "code",
   "execution_count": 52,
   "id": "aa440b94-b060-4965-b919-b3bd66fed2f5",
   "metadata": {},
   "outputs": [
    {
     "data": {
      "text/plain": [
       "[-1, -2, -3, -4, -5]"
      ]
     },
     "execution_count": 52,
     "metadata": {},
     "output_type": "execute_result"
    }
   ],
   "source": [
    "neg"
   ]
  },
  {
   "cell_type": "code",
   "execution_count": null,
   "id": "75854887-de44-462e-aea8-b8a645fc1948",
   "metadata": {},
   "outputs": [],
   "source": []
  }
 ],
 "metadata": {
  "kernelspec": {
   "display_name": "Python 3 (ipykernel)",
   "language": "python",
   "name": "python3"
  },
  "language_info": {
   "codemirror_mode": {
    "name": "ipython",
    "version": 3
   },
   "file_extension": ".py",
   "mimetype": "text/x-python",
   "name": "python",
   "nbconvert_exporter": "python",
   "pygments_lexer": "ipython3",
   "version": "3.10.8"
  }
 },
 "nbformat": 4,
 "nbformat_minor": 5
}
